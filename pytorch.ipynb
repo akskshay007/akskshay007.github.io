{
 "cells": [
  {
   "cell_type": "markdown",
   "id": "c37b16c3",
   "metadata": {
    "papermill": {
     "duration": 0.026589,
     "end_time": "2022-06-03T12:33:49.080224",
     "exception": false,
     "start_time": "2022-06-03T12:33:49.053635",
     "status": "completed"
    },
    "tags": []
   },
   "source": [
    "### Fashion-MNIST Baseline Model\n",
    "#### This notebook is my learning based on the wonderful course from DeepLzard: [PyTorch - Python Deep Learning Neural Network API](https://deeplizard.com/learn/playlist/PLZbbT5o_s2xrfNyHZsM6ufI0iZENK9xgG). In this notebook, I have built a baseline multiclass-classification model from scratch for the Fashion-MNIST dataset. ####"
   ]
  },
  {
   "cell_type": "code",
   "execution_count": 1,
   "id": "1e29142d",
   "metadata": {
    "_cell_guid": "b1076dfc-b9ad-4769-8c92-a6c4dae69d19",
    "_uuid": "8f2839f25d086af736a60e9eeb907d3b93b6e0e5",
    "execution": {
     "iopub.execute_input": "2022-06-03T12:33:49.137015Z",
     "iopub.status.busy": "2022-06-03T12:33:49.135192Z",
     "iopub.status.idle": "2022-06-03T12:33:49.148009Z",
     "shell.execute_reply": "2022-06-03T12:33:49.148527Z",
     "shell.execute_reply.started": "2022-06-03T12:31:06.521360Z"
    },
    "papermill": {
     "duration": 0.04437,
     "end_time": "2022-06-03T12:33:49.148812",
     "exception": false,
     "start_time": "2022-06-03T12:33:49.104442",
     "status": "completed"
    },
    "tags": []
   },
   "outputs": [],
   "source": [
    "# This Python 3 environment comes with many helpful analytics libraries installed\n",
    "# It is defined by the kaggle/python Docker image: https://github.com/kaggle/docker-python\n",
    "# For example, here's several helpful packages to load\n",
    "\n",
    "import numpy as np # linear algebra\n",
    "import pandas as pd # data processing, CSV file I/O (e.g. pd.read_csv)\n",
    "\n",
    "# Input data files are available in the read-only \"../input/\" directory\n",
    "# For example, running this (by clicking run or pressing Shift+Enter) will list all files under the input directory\n",
    "\n",
    "import os\n",
    "for dirname, _, filenames in os.walk('/kaggle/input'):\n",
    "    for filename in filenames:\n",
    "        print(os.path.join(dirname, filename))\n",
    "\n",
    "# You can write up to 20GB to the current directory (/kaggle/working/) that gets preserved as output when you create a version using \"Save & Run All\" \n",
    "# You can also write temporary files to /kaggle/temp/, but they won't be saved outside of the current session"
   ]
  },
  {
   "cell_type": "markdown",
   "id": "4445706e",
   "metadata": {
    "papermill": {
     "duration": 0.022636,
     "end_time": "2022-06-03T12:33:49.197281",
     "exception": false,
     "start_time": "2022-06-03T12:33:49.174645",
     "status": "completed"
    },
    "tags": []
   },
   "source": [
    "#### Below we are importing all the imortant modules and libraries that will be used throughout this notebook."
   ]
  },
  {
   "cell_type": "code",
   "execution_count": 2,
   "id": "026074fc",
   "metadata": {
    "execution": {
     "iopub.execute_input": "2022-06-03T12:33:49.246617Z",
     "iopub.status.busy": "2022-06-03T12:33:49.245645Z",
     "iopub.status.idle": "2022-06-03T12:33:50.561606Z",
     "shell.execute_reply": "2022-06-03T12:33:50.562098Z",
     "shell.execute_reply.started": "2022-06-03T12:07:49.567796Z"
    },
    "papermill": {
     "duration": 1.342193,
     "end_time": "2022-06-03T12:33:50.562313",
     "exception": false,
     "start_time": "2022-06-03T12:33:49.220120",
     "status": "completed"
    },
    "tags": []
   },
   "outputs": [],
   "source": [
    "#Pytorch-based imports\n",
    "import torch\n",
    "import imageio\n",
    "import torchvision\n",
    "import torchvision.transforms as transforms\n",
    "import matplotlib.pyplot as plt\n",
    "import torch.nn as nn\n",
    "import torch.nn.functional as F\n",
    "import torch.optim as optim\n",
    "\n",
    "#Python-specific imports\n",
    "from itertools import product\n",
    "from collections import namedtuple\n",
    "from collections import OrderedDict\n",
    "from IPython.display import display, clear_output\n",
    "import time\n",
    "import json"
   ]
  },
  {
   "cell_type": "markdown",
   "id": "1fd6d9c8",
   "metadata": {
    "papermill": {
     "duration": 0.022528,
     "end_time": "2022-06-03T12:33:50.607776",
     "exception": false,
     "start_time": "2022-06-03T12:33:50.585248",
     "status": "completed"
    },
    "tags": []
   },
   "source": [
    "##### We have used PyTorch version '1.7.1+cpu'. I have not used GPU as it was not required."
   ]
  },
  {
   "cell_type": "code",
   "execution_count": 3,
   "id": "9105d6d8",
   "metadata": {
    "execution": {
     "iopub.execute_input": "2022-06-03T12:33:50.662671Z",
     "iopub.status.busy": "2022-06-03T12:33:50.661802Z",
     "iopub.status.idle": "2022-06-03T12:33:50.673656Z",
     "shell.execute_reply": "2022-06-03T12:33:50.674133Z",
     "shell.execute_reply.started": "2022-06-02T15:37:25.109408Z"
    },
    "papermill": {
     "duration": 0.039322,
     "end_time": "2022-06-03T12:33:50.674338",
     "exception": false,
     "start_time": "2022-06-03T12:33:50.635016",
     "status": "completed"
    },
    "tags": []
   },
   "outputs": [
    {
     "data": {
      "text/plain": [
       "'1.7.1+cpu'"
      ]
     },
     "execution_count": 3,
     "metadata": {},
     "output_type": "execute_result"
    }
   ],
   "source": [
    "torch.version.__version__"
   ]
  },
  {
   "cell_type": "code",
   "execution_count": 4,
   "id": "fe68f5b1",
   "metadata": {
    "execution": {
     "iopub.execute_input": "2022-06-03T12:33:50.735516Z",
     "iopub.status.busy": "2022-06-03T12:33:50.734743Z",
     "iopub.status.idle": "2022-06-03T12:33:50.737116Z",
     "shell.execute_reply": "2022-06-03T12:33:50.736506Z",
     "shell.execute_reply.started": "2022-05-21T16:12:44.527823Z"
    },
    "papermill": {
     "duration": 0.035853,
     "end_time": "2022-06-03T12:33:50.737282",
     "exception": false,
     "start_time": "2022-06-03T12:33:50.701429",
     "status": "completed"
    },
    "tags": []
   },
   "outputs": [],
   "source": [
    "# # %load_ext tensorboard.notebook\n",
    "# # %tensorboard --logdir logs\n",
    "\n",
    "# from torch.utils.tensorboard import SummaryWriter\n",
    "# !rm -rf ./logs/ \n",
    "# !mkdir ./logs/\n",
    "# img_grey=img_t.mean(-3)\n",
    "# batch_grey=batch_t.mean(-3)\n",
    "# unsqueezed_weights = weights.unsqueeze(-1).unsqueeze_(-1)\n",
    "# weights.shape,unsqueezed_weights.shape,img_t.shape\n",
    "# img_weights=(img_t*unsqueezed_whyeights)\n",
    "# img_weights\n",
    "# unsqueezed_weights\n",
    "\n",
    "# sample=iter(train)\n",
    "# image,label=next(sample)\n",
    "# image=image.squeeze()\n",
    "# plt.figure(figsize=(4,5))\n",
    "# plt.imshow(image,cmap=\"gray\")\n",
    "# print(\"label:\",label)\n",
    "\n",
    "# display_batch=iter(train_loader)\n",
    "# batch,labels=next(display_batch)\n",
    "# batch.shape\n",
    "# grid=torchvision.utils.make_grid(batch, nrow=5)\n",
    "# grid.shape\n",
    "# plt.figure(figsize=(12,15))\n",
    "# plt.imshow(grid.permute(1,2,0))"
   ]
  },
  {
   "cell_type": "markdown",
   "id": "96b99c19",
   "metadata": {
    "papermill": {
     "duration": 0.022793,
     "end_time": "2022-06-03T12:33:50.783372",
     "exception": false,
     "start_time": "2022-06-03T12:33:50.760579",
     "status": "completed"
    },
    "tags": []
   },
   "source": [
    "### Let's talk about the data we are going to work on as it is very important to know about your data.\n",
    "\n",
    "##### The MNIST dataset, Modified National Institute of Standards and Technology database, is a famous dataset of handwritten digits that is commonly used for training image processing systems for machine learning. NIST stands for National Institute of Standards and Technology. The M in MNIST stands for modified, and this is because there was an original NIST dataset of digits that was modified to give us MNIST.\n",
    "\n",
    "##### Fashion-MNIST as the name suggests is a dataset of fashion items. Specifically, the dataset has the following ten classes of fashion items:\n",
    "\n",
    "###### Index\tLabel\n",
    "\n",
    "0.\tT-shirt/top\n",
    "1. \tTrouser\n",
    "2. \tPullover\n",
    "3.\tDress\n",
    "4.\tCoat\n",
    "5.\tSandal\n",
    "6.\tShirt\n",
    "7.\tSneaker\n",
    "8.\tBag\n",
    "9.\tAnkle boot\n",
    "\n",
    "##### The dataset consists of 70,000 images of hand written digits with the following split:\n",
    "* 60,000 training images\n",
    "* 10,000 testing images"
   ]
  },
  {
   "cell_type": "markdown",
   "id": "880e4dbf",
   "metadata": {
    "papermill": {
     "duration": 0.023175,
     "end_time": "2022-06-03T12:33:50.831731",
     "exception": false,
     "start_time": "2022-06-03T12:33:50.808556",
     "status": "completed"
    },
    "tags": []
   },
   "source": [
    "##### Torchvision provides many built-in datasets in the torchvision.datasets module, so we used same module to load our Fashion-MNIST dataset directly.\n",
    "* check if data is present in the specified path, if not download it.\n",
    "* load only the train part\n",
    "* transform the data to tensor form"
   ]
  },
  {
   "cell_type": "markdown",
   "id": "0773068b",
   "metadata": {
    "papermill": {
     "duration": 0.022784,
     "end_time": "2022-06-03T12:33:50.878117",
     "exception": false,
     "start_time": "2022-06-03T12:33:50.855333",
     "status": "completed"
    },
    "tags": []
   },
   "source": [
    "#### We have used standardization to normalize the dataset. We calculated the mean and standard deviation of the data first and then incorpoarted it to our pipeline to normalize the dataset."
   ]
  },
  {
   "cell_type": "code",
   "execution_count": 5,
   "id": "207eba6c",
   "metadata": {
    "execution": {
     "iopub.execute_input": "2022-06-03T12:33:50.927369Z",
     "iopub.status.busy": "2022-06-03T12:33:50.926728Z",
     "iopub.status.idle": "2022-06-03T12:34:03.700483Z",
     "shell.execute_reply": "2022-06-03T12:34:03.699440Z",
     "shell.execute_reply.started": "2022-06-03T12:08:00.346443Z"
    },
    "papermill": {
     "duration": 12.799443,
     "end_time": "2022-06-03T12:34:03.700669",
     "exception": false,
     "start_time": "2022-06-03T12:33:50.901226",
     "status": "completed"
    },
    "tags": []
   },
   "outputs": [
    {
     "name": "stdout",
     "output_type": "stream",
     "text": [
      "Downloading http://fashion-mnist.s3-website.eu-central-1.amazonaws.com/train-images-idx3-ubyte.gz to ../data/input/FashionMNIST/raw/train-images-idx3-ubyte.gz\n"
     ]
    },
    {
     "data": {
      "application/vnd.jupyter.widget-view+json": {
       "model_id": "dd79300d3b0b4f508e59a385935aafd6",
       "version_major": 2,
       "version_minor": 0
      },
      "text/plain": [
       "0it [00:00, ?it/s]"
      ]
     },
     "metadata": {},
     "output_type": "display_data"
    },
    {
     "name": "stdout",
     "output_type": "stream",
     "text": [
      "Extracting ../data/input/FashionMNIST/raw/train-images-idx3-ubyte.gz to ../data/input/FashionMNIST/raw\n",
      "Downloading http://fashion-mnist.s3-website.eu-central-1.amazonaws.com/train-labels-idx1-ubyte.gz to ../data/input/FashionMNIST/raw/train-labels-idx1-ubyte.gz\n"
     ]
    },
    {
     "data": {
      "application/vnd.jupyter.widget-view+json": {
       "model_id": "c1b77aabee1740ae8d854ebd43ec8033",
       "version_major": 2,
       "version_minor": 0
      },
      "text/plain": [
       "0it [00:00, ?it/s]"
      ]
     },
     "metadata": {},
     "output_type": "display_data"
    },
    {
     "name": "stdout",
     "output_type": "stream",
     "text": [
      "Extracting ../data/input/FashionMNIST/raw/train-labels-idx1-ubyte.gz to ../data/input/FashionMNIST/raw\n",
      "Downloading http://fashion-mnist.s3-website.eu-central-1.amazonaws.com/t10k-images-idx3-ubyte.gz to ../data/input/FashionMNIST/raw/t10k-images-idx3-ubyte.gz\n"
     ]
    },
    {
     "data": {
      "application/vnd.jupyter.widget-view+json": {
       "model_id": "d933f2ec28c14a0b9cb5b07b2fd40f13",
       "version_major": 2,
       "version_minor": 0
      },
      "text/plain": [
       "0it [00:00, ?it/s]"
      ]
     },
     "metadata": {},
     "output_type": "display_data"
    },
    {
     "name": "stdout",
     "output_type": "stream",
     "text": [
      "Extracting ../data/input/FashionMNIST/raw/t10k-images-idx3-ubyte.gz to ../data/input/FashionMNIST/raw\n",
      "Downloading http://fashion-mnist.s3-website.eu-central-1.amazonaws.com/t10k-labels-idx1-ubyte.gz to ../data/input/FashionMNIST/raw/t10k-labels-idx1-ubyte.gz\n"
     ]
    },
    {
     "data": {
      "application/vnd.jupyter.widget-view+json": {
       "model_id": "c03eb03e9f80455ab3bba28b3858cb80",
       "version_major": 2,
       "version_minor": 0
      },
      "text/plain": [
       "0it [00:00, ?it/s]"
      ]
     },
     "metadata": {},
     "output_type": "display_data"
    },
    {
     "name": "stdout",
     "output_type": "stream",
     "text": [
      "Extracting ../data/input/FashionMNIST/raw/t10k-labels-idx1-ubyte.gz to ../data/input/FashionMNIST/raw\n",
      "Processing...\n",
      "Done!\n"
     ]
    },
    {
     "name": "stderr",
     "output_type": "stream",
     "text": [
      "/opt/conda/lib/python3.7/site-packages/torchvision/datasets/mnist.py:480: UserWarning: The given NumPy array is not writeable, and PyTorch does not support non-writeable tensors. This means you can write to the underlying (supposedly non-writeable) NumPy array using the tensor. You may want to copy the array to protect its data or make it writeable before converting it to a tensor. This type of warning will be suppressed for the rest of this program. (Triggered internally at  /pytorch/torch/csrc/utils/tensor_numpy.cpp:141.)\n",
      "  return torch.from_numpy(parsed.astype(m[2], copy=False)).view(*s)\n"
     ]
    }
   ],
   "source": [
    "train=torchvision.datasets.FashionMNIST(\n",
    "    root=\"../data/input\",\n",
    "    download=True,\n",
    "    train=True,\n",
    "    transform=transforms.Compose([transforms.ToTensor()])\n",
    ")\n",
    "\n",
    "\n",
    "#Calculate mean and standard deviation\n",
    "loader = torch.utils.data.DataLoader(train, batch_size=len(train), num_workers=1)\n",
    "data = next(iter(loader))\n",
    "mean=data[0].mean()\n",
    "std=data[0].std()"
   ]
  },
  {
   "cell_type": "code",
   "execution_count": 6,
   "id": "cb530522",
   "metadata": {
    "execution": {
     "iopub.execute_input": "2022-06-03T12:34:03.766699Z",
     "iopub.status.busy": "2022-06-03T12:34:03.765754Z",
     "iopub.status.idle": "2022-06-03T12:34:03.806677Z",
     "shell.execute_reply": "2022-06-03T12:34:03.806011Z",
     "shell.execute_reply.started": "2022-06-03T12:08:18.958090Z"
    },
    "papermill": {
     "duration": 0.075658,
     "end_time": "2022-06-03T12:34:03.806824",
     "exception": false,
     "start_time": "2022-06-03T12:34:03.731166",
     "status": "completed"
    },
    "tags": []
   },
   "outputs": [],
   "source": [
    "train=torchvision.datasets.FashionMNIST(\n",
    "    root=\"../data/input/\",\n",
    "    download=True,\n",
    "    train=True,\n",
    "    transform=transforms.Compose([transforms.ToTensor(),\n",
    "                                 transforms.Normalize(mean,std)])\n",
    ")"
   ]
  },
  {
   "cell_type": "markdown",
   "id": "49575201",
   "metadata": {
    "papermill": {
     "duration": 0.027147,
     "end_time": "2022-06-03T12:34:03.861777",
     "exception": false,
     "start_time": "2022-06-03T12:34:03.834630",
     "status": "completed"
    },
    "tags": []
   },
   "source": [
    "##### For simplicity, We have defined our Network with only 5 layers as below:\n",
    "* 2 Convolution layers (Each Conv layer is followed by a ReLU activation and max pooling layer)\n",
    "* 2 Linear layers ( Each Linear layer is followed only by a ReLU activation layer)\n",
    "* Output layer"
   ]
  },
  {
   "cell_type": "code",
   "execution_count": 7,
   "id": "7d4364e4",
   "metadata": {
    "execution": {
     "iopub.execute_input": "2022-06-03T12:34:03.929597Z",
     "iopub.status.busy": "2022-06-03T12:34:03.926235Z",
     "iopub.status.idle": "2022-06-03T12:34:03.931607Z",
     "shell.execute_reply": "2022-06-03T12:34:03.932178Z",
     "shell.execute_reply.started": "2022-06-03T12:08:19.010137Z"
    },
    "papermill": {
     "duration": 0.042977,
     "end_time": "2022-06-03T12:34:03.932373",
     "exception": false,
     "start_time": "2022-06-03T12:34:03.889396",
     "status": "completed"
    },
    "tags": []
   },
   "outputs": [],
   "source": [
    "class Network(nn.Module):\n",
    "    def __init__(self):\n",
    "        super().__init__()\n",
    "        self.conv1=nn.Conv2d(in_channels=1, out_channels=6, kernel_size=5)\n",
    "        self.conv2=nn.Conv2d(in_channels=6, out_channels=12, kernel_size=5)\n",
    "        \n",
    "        self.fc1=nn.Linear(in_features=12*4*4, out_features=120)\n",
    "        self.fc2=nn.Linear(in_features=120, out_features=60)\n",
    "        \n",
    "        self.out=nn.Linear(in_features=60, out_features=10)\n",
    "        \n",
    "    def forward(self,t):\n",
    "        #input layer\n",
    "        t=t\n",
    "        \n",
    "        #1st conv-hidden layer\n",
    "        t=F.relu(self.conv1(t))\n",
    "        t=F.max_pool2d(t, kernel_size=2, stride=2)\n",
    "        \n",
    "        #2nd conv-hidden layer\n",
    "        t=F.relu(self.conv2(t))\n",
    "        t=F.max_pool2d(t, kernel_size=2, stride=2)\n",
    "        \n",
    "        #3rd linear-hidden layer\n",
    "        t=t.reshape(-1,12*4*4)\n",
    "        t=F.relu(self.fc1(t))\n",
    "        \n",
    "        #4th linear-hidden layer\n",
    "        t=F.relu(self.fc2(t))\n",
    "        \n",
    "        #output layer\n",
    "        t=self.out(t)\n",
    "        return t"
   ]
  },
  {
   "cell_type": "markdown",
   "id": "eed6356e",
   "metadata": {
    "papermill": {
     "duration": 0.02712,
     "end_time": "2022-06-03T12:34:03.987475",
     "exception": false,
     "start_time": "2022-06-03T12:34:03.960355",
     "status": "completed"
    },
    "tags": []
   },
   "source": [
    "### Building a confusion Matrix \n",
    "#### We trained a dummy network to get some inference and show how we can build a confusion matrix. Below code should be used after completion of training of our model at the end."
   ]
  },
  {
   "cell_type": "code",
   "execution_count": 8,
   "id": "f48e89b3",
   "metadata": {
    "execution": {
     "iopub.execute_input": "2022-06-03T12:34:04.045815Z",
     "iopub.status.busy": "2022-06-03T12:34:04.044861Z",
     "iopub.status.idle": "2022-06-03T12:34:04.048816Z",
     "shell.execute_reply": "2022-06-03T12:34:04.049347Z",
     "shell.execute_reply.started": "2022-06-03T12:08:25.819311Z"
    },
    "papermill": {
     "duration": 0.034698,
     "end_time": "2022-06-03T12:34:04.049520",
     "exception": false,
     "start_time": "2022-06-03T12:34:04.014822",
     "status": "completed"
    },
    "tags": []
   },
   "outputs": [],
   "source": [
    "def get_count_correct(preds,labels):\n",
    "    return preds.argmax(dim=1).eq(labels).sum()"
   ]
  },
  {
   "cell_type": "code",
   "execution_count": 9,
   "id": "8a400ae0",
   "metadata": {
    "execution": {
     "iopub.execute_input": "2022-06-03T12:34:04.118425Z",
     "iopub.status.busy": "2022-06-03T12:34:04.112979Z",
     "iopub.status.idle": "2022-06-03T12:36:34.281148Z",
     "shell.execute_reply": "2022-06-03T12:36:34.281680Z",
     "shell.execute_reply.started": "2022-06-02T15:58:40.694133Z"
    },
    "papermill": {
     "duration": 150.204858,
     "end_time": "2022-06-03T12:36:34.281863",
     "exception": false,
     "start_time": "2022-06-03T12:34:04.077005",
     "status": "completed"
    },
    "tags": []
   },
   "outputs": [
    {
     "name": "stdout",
     "output_type": "stream",
     "text": [
      "Epoch:0 loss:317.49215702712536 Total Correct:48182\n",
      "Epoch:1 loss:231.33662731945515 Total Correct:51642\n",
      "Epoch:2 loss:212.26749621331692 Total Correct:52222\n",
      "Epoch:3 loss:207.9506111741066 Total Correct:52409\n",
      "Epoch:4 loss:199.88819161057472 Total Correct:52776\n",
      "Epoch:5 loss:196.79258227348328 Total Correct:52918\n",
      "Epoch:6 loss:193.9827583283186 Total Correct:52987\n",
      "Epoch:7 loss:193.57411362230778 Total Correct:53053\n"
     ]
    }
   ],
   "source": [
    "network=Network()\n",
    "optimizer=optim.Adam(network.parameters(), lr=0.01)\n",
    "train_loader=torch.utils.data.DataLoader(train, batch_size=100, shuffle=True)\n",
    "\n",
    "#Trained our network\n",
    "epochs=8\n",
    "for epoch in range(epochs):\n",
    "    \n",
    "    total_correct=0\n",
    "    total_loss=0\n",
    "    for batch in train_loader:\n",
    "        images,labels=batch\n",
    "        preds=network(images)\n",
    "\n",
    "        loss=F.cross_entropy(preds,labels)\n",
    "        total_loss+=loss.item()\n",
    "        total_correct+=get_count_correct(preds,labels)\n",
    "\n",
    "        optimizer.zero_grad()\n",
    "        loss.backward()\n",
    "        optimizer.step()\n",
    "\n",
    "    print(f\"Epoch:{epoch} loss:{total_loss} Total Correct:{total_correct}\")"
   ]
  },
  {
   "cell_type": "code",
   "execution_count": 10,
   "id": "f86d4f8a",
   "metadata": {
    "execution": {
     "iopub.execute_input": "2022-06-03T12:36:34.350960Z",
     "iopub.status.busy": "2022-06-03T12:36:34.349777Z",
     "iopub.status.idle": "2022-06-03T12:36:48.646106Z",
     "shell.execute_reply": "2022-06-03T12:36:48.645401Z",
     "shell.execute_reply.started": "2022-06-02T16:01:31.45397Z"
    },
    "papermill": {
     "duration": 14.334945,
     "end_time": "2022-06-03T12:36:48.646263",
     "exception": false,
     "start_time": "2022-06-03T12:36:34.311318",
     "status": "completed"
    },
    "tags": []
   },
   "outputs": [],
   "source": [
    "#Building Confusion Matrix\n",
    "def get_preds(model,data_loader):\n",
    "    all_preds=torch.tensor([])\n",
    "    with torch.no_grad():\n",
    "        for batch in data_loader:\n",
    "            images,labels=batch\n",
    "            preds=model(images)\n",
    "            \n",
    "            all_preds=torch.cat((all_preds,preds), dim=0)\n",
    "    return all_preds\n",
    "\n",
    "pred_loader=torch.utils.data.DataLoader(train, batch_size=1000)\n",
    "with torch.no_grad():\n",
    "#     preds=get_preds(network,pred_loader).argmax(dim=1)\n",
    "    preds=get_preds(network,pred_loader).argmax(dim=1)\n",
    "\n",
    "confusion_matrix=torch.zeros(len(train.targets.unique()),len(train.targets.unique()), dtype=torch.int32)\n",
    "paired_preds=torch.stack((train.targets,preds), dim=1)\n",
    "\n",
    "for pair in paired_preds:\n",
    "    true_label,predicted_label=pair.tolist()\n",
    "    confusion_matrix[true_label][predicted_label]+=1\n"
   ]
  },
  {
   "cell_type": "code",
   "execution_count": 11,
   "id": "8e5e1852",
   "metadata": {
    "execution": {
     "iopub.execute_input": "2022-06-03T12:36:48.716052Z",
     "iopub.status.busy": "2022-06-03T12:36:48.715432Z",
     "iopub.status.idle": "2022-06-03T12:36:48.717522Z",
     "shell.execute_reply": "2022-06-03T12:36:48.717949Z",
     "shell.execute_reply.started": "2022-06-02T16:02:13.54265Z"
    },
    "papermill": {
     "duration": 0.042144,
     "end_time": "2022-06-03T12:36:48.718113",
     "exception": false,
     "start_time": "2022-06-03T12:36:48.675969",
     "status": "completed"
    },
    "tags": []
   },
   "outputs": [],
   "source": [
    "import itertools\n",
    "\n",
    "def plot_confusion_matrix(cm, classes, normalize=False, title='Confusion matrix', cmap=plt.cm.Blues):\n",
    "    if normalize:\n",
    "        cm = cm.astype('float') / cm.sum(axis=1)[:, np.newaxis]\n",
    "        print(\"Normalized confusion matrix\")\n",
    "    else:\n",
    "        print('Confusion matrix, without normalization')\n",
    "\n",
    "    print(cm)\n",
    "    plt.imshow(cm, interpolation='nearest', cmap=cmap)\n",
    "    plt.title(title)\n",
    "    plt.colorbar()\n",
    "    tick_marks = np.arange(len(classes))\n",
    "    plt.xticks(tick_marks, classes, rotation=45)\n",
    "    plt.yticks(tick_marks, classes)\n",
    "\n",
    "    fmt = '.2f' if normalize else 'd'\n",
    "    thresh = cm.max() / 2.\n",
    "    for i, j in itertools.product(range(cm.shape[0]), range(cm.shape[1])):\n",
    "        plt.text(j, i, format(cm[i, j], fmt), horizontalalignment=\"center\", color=\"white\" if cm[i, j] > thresh else \"black\")\n",
    "\n",
    "    plt.tight_layout()\n",
    "    plt.ylabel('True label')\n",
    "    plt.xlabel('Predicted label')"
   ]
  },
  {
   "cell_type": "code",
   "execution_count": 12,
   "id": "55b9221c",
   "metadata": {
    "execution": {
     "iopub.execute_input": "2022-06-03T12:36:48.782904Z",
     "iopub.status.busy": "2022-06-03T12:36:48.782025Z",
     "iopub.status.idle": "2022-06-03T12:36:49.709564Z",
     "shell.execute_reply": "2022-06-03T12:36:49.710053Z",
     "shell.execute_reply.started": "2022-06-02T16:02:18.833348Z"
    },
    "papermill": {
     "duration": 0.962691,
     "end_time": "2022-06-03T12:36:49.710239",
     "exception": false,
     "start_time": "2022-06-03T12:36:48.747548",
     "status": "completed"
    },
    "tags": []
   },
   "outputs": [
    {
     "name": "stdout",
     "output_type": "stream",
     "text": [
      "Confusion matrix, without normalization\n",
      "tensor([[4727,    5,   62,  110,    4,    7, 1042,    0,   43,    0],\n",
      "        [  10, 5872,    5,   84,    3,    1,   18,    0,    7,    0],\n",
      "        [  40,    3, 5039,   34,  356,    4,  485,    0,   39,    0],\n",
      "        [ 169,   37,   21, 5353,  125,    0,  269,    0,   26,    0],\n",
      "        [   7,    4,  542,  206, 4340,    0,  876,    0,   25,    0],\n",
      "        [   0,    0,    0,    1,    0, 5811,    0,   88,   12,   88],\n",
      "        [ 539,    5,  497,   93,  149,    1, 4652,    0,   64,    0],\n",
      "        [   0,    0,    0,    0,    0,   78,    0, 5754,    2,  166],\n",
      "        [   9,    0,   25,   13,   10,   18,   58,    7, 5860,    0],\n",
      "        [   0,    0,    0,    0,    0,   16,    0,  174,    4, 5806]],\n",
      "       dtype=torch.int32)\n"
     ]
    },
    {
     "data": {
      "image/png": "[encoded data removed]",
      "text/plain": [
       "<Figure size 720x720 with 2 Axes>"
      ]
     },
     "metadata": {
      "needs_background": "light"
     },
     "output_type": "display_data"
    }
   ],
   "source": [
    "plt.figure(figsize=(10,10))\n",
    "plot_confusion_matrix(confusion_matrix,train.classes)"
   ]
  },
  {
   "cell_type": "markdown",
   "id": "5b08608c",
   "metadata": {
    "papermill": {
     "duration": 0.031402,
     "end_time": "2022-06-03T12:36:49.773441",
     "exception": false,
     "start_time": "2022-06-03T12:36:49.742039",
     "status": "completed"
    },
    "tags": []
   },
   "source": [
    "#### For Hyperparameter tuning, we have built two classes which will be used to track and compare the results duirng mutliple runs with different parameter values.\n",
    "* RunBuilder class\n",
    "* RunManager class\n",
    "\n",
    "###### Note: TensorBoard could not be used here on a kaggle kernel due to lot of complexities, hence related code lines are commented."
   ]
  },
  {
   "cell_type": "code",
   "execution_count": 13,
   "id": "46aced74",
   "metadata": {
    "execution": {
     "iopub.execute_input": "2022-06-03T12:36:49.840065Z",
     "iopub.status.busy": "2022-06-03T12:36:49.839212Z",
     "iopub.status.idle": "2022-06-03T12:36:49.843760Z",
     "shell.execute_reply": "2022-06-03T12:36:49.844278Z",
     "shell.execute_reply.started": "2022-06-03T12:08:56.271177Z"
    },
    "papermill": {
     "duration": 0.03927,
     "end_time": "2022-06-03T12:36:49.844441",
     "exception": false,
     "start_time": "2022-06-03T12:36:49.805171",
     "status": "completed"
    },
    "tags": []
   },
   "outputs": [],
   "source": [
    "class RunBuilder:\n",
    "    @staticmethod\n",
    "    def get_runs(params):\n",
    "        runs=[]\n",
    "        \n",
    "        Run=namedtuple(\"Run\", params.keys())\n",
    "        for v in product(*params.values()):\n",
    "            runs.append(Run(*v))\n",
    "        return runs"
   ]
  },
  {
   "cell_type": "code",
   "execution_count": 14,
   "id": "c114fe70",
   "metadata": {
    "execution": {
     "iopub.execute_input": "2022-06-03T12:36:49.912387Z",
     "iopub.status.busy": "2022-06-03T12:36:49.911709Z",
     "iopub.status.idle": "2022-06-03T12:36:49.927181Z",
     "shell.execute_reply": "2022-06-03T12:36:49.927749Z",
     "shell.execute_reply.started": "2022-06-03T12:08:56.532753Z"
    },
    "papermill": {
     "duration": 0.05108,
     "end_time": "2022-06-03T12:36:49.927967",
     "exception": false,
     "start_time": "2022-06-03T12:36:49.876887",
     "status": "completed"
    },
    "tags": []
   },
   "outputs": [],
   "source": [
    "class RunManager:\n",
    "    def __init__(self):\n",
    "        self.epoch_count = 0\n",
    "        self.epoch_loss = 0\n",
    "        self.epoch_num_correct = 0\n",
    "        self.epoch_start_time = None\n",
    "\n",
    "        self.run_params = None\n",
    "        self.run_count = 0\n",
    "        self.run_data = []\n",
    "        self.run_start_time = None\n",
    "\n",
    "        self.network = None\n",
    "        self.loader = None\n",
    "#         self.tb = None\n",
    "    def begin_run(self, run, network, loader):\n",
    "        self.run_start_time = time.time()\n",
    "        self.run_params = run\n",
    "        self.run_count += 1\n",
    "        self.network = network\n",
    "        self.loader = loader\n",
    "#         self.tb = SummaryWriter(comment=f'-{run}')\n",
    "#         images, labels = next(iter(self.loader))\n",
    "#         grid = torchvision.utils.make_grid(images)\n",
    "#         self.tb.add_image('images', grid)\n",
    "#         self.tb.add_graph(self.network, images)\n",
    "\n",
    "    def end_run(self):\n",
    "#         self.tb.close()\n",
    "        self.epoch_count = 0\n",
    "    \n",
    "    def begin_epoch(self):\n",
    "        self.epoch_start_time = time.time()\n",
    "        self.epoch_count += 1\n",
    "        self.epoch_loss = 0\n",
    "        self.epoch_num_correct = 0\n",
    "        \n",
    "    \n",
    "    def end_epoch(self):\n",
    "        epoch_duration = time.time() - self.epoch_start_time\n",
    "        run_duration = time.time() - self.run_start_time\n",
    "\n",
    "        loss = self.epoch_loss / len(self.loader.dataset)\n",
    "        accuracy = self.epoch_num_correct / len(self.loader.dataset)\n",
    "        \n",
    "#         self.tb.add_scalar('Loss', loss, self.epoch_count)\n",
    "#         self.tb.add_scalar('Accuracy', accuracy, self.epoch_count)\n",
    "\n",
    "#         for name, param in self.network.named_parameters():\n",
    "#             self.tb.add_histogram(name, param, self.epoch_count)\n",
    "#             self.tb.add_histogram(f'{name}.grad', param.grad, self.epoch_count)\n",
    "\n",
    "        results = OrderedDict()\n",
    "        results[\"run\"] = self.run_count\n",
    "        results[\"epoch\"] = self.epoch_count\n",
    "        results['loss'] = loss\n",
    "        results[\"accuracy\"] = accuracy\n",
    "        results['epoch duration'] = epoch_duration\n",
    "        results['run duration'] = run_duration\n",
    "        for k,v in self.run_params._asdict().items(): results[k] = v\n",
    "        self.run_data.append(results)\n",
    "\n",
    "        df = pd.DataFrame.from_dict(self.run_data, orient='columns')\n",
    "        \n",
    "        clear_output(wait=True)\n",
    "        display(df)\n",
    "    \n",
    "    def track_loss(self, loss, batch):\n",
    "        self.epoch_loss += loss.item() * batch[0].shape[0]\n",
    "\n",
    "    def track_num_correct(self, preds, labels):\n",
    "        self.epoch_num_correct += self.get_count_correct(preds, labels)\n",
    "\n",
    "    def save(self, fileName):\n",
    "        pd.DataFrame.from_dict(\n",
    "            self.run_data, orient='columns'\n",
    "        ).to_csv(f'{fileName}.csv')\n",
    "\n",
    "#         with open(f'{fileName}.json', 'w', encoding='utf-8') as f:\n",
    "#             json.dump(self.run_data, f, ensure_ascii=False, indent=4)\n",
    "            \n",
    "    def get_count_correct(self,preds,labels):\n",
    "        return float(preds.argmax(dim=1).eq(labels).sum())"
   ]
  },
  {
   "cell_type": "markdown",
   "id": "8448dc24",
   "metadata": {
    "papermill": {
     "duration": 0.031459,
     "end_time": "2022-06-03T12:36:49.991835",
     "exception": false,
     "start_time": "2022-06-03T12:36:49.960376",
     "status": "completed"
    },
    "tags": []
   },
   "source": [
    "#### With above two powerful classes in place, we can test any number of Hyperparameters with minimal effort. We just need to add the key and values we want to test to our 'params' ordered-dictionary."
   ]
  },
  {
   "cell_type": "code",
   "execution_count": 15,
   "id": "0a602c8b",
   "metadata": {
    "execution": {
     "iopub.execute_input": "2022-06-03T12:36:50.058391Z",
     "iopub.status.busy": "2022-06-03T12:36:50.057770Z",
     "iopub.status.idle": "2022-06-03T12:42:44.455345Z",
     "shell.execute_reply": "2022-06-03T12:42:44.454769Z",
     "shell.execute_reply.started": "2022-06-03T07:35:12.473077Z"
    },
    "papermill": {
     "duration": 354.431888,
     "end_time": "2022-06-03T12:42:44.455495",
     "exception": false,
     "start_time": "2022-06-03T12:36:50.023607",
     "status": "completed"
    },
    "tags": []
   },
   "outputs": [
    {
     "data": {
      "text/html": [
       "<div>\n",
       "<style scoped>\n",
       "    .dataframe tbody tr th:only-of-type {\n",
       "        vertical-align: middle;\n",
       "    }\n",
       "\n",
       "    .dataframe tbody tr th {\n",
       "        vertical-align: top;\n",
       "    }\n",
       "\n",
       "    .dataframe thead th {\n",
       "        text-align: right;\n",
       "    }\n",
       "</style>\n",
       "<table border=\"1\" class=\"dataframe\">\n",
       "  <thead>\n",
       "    <tr style=\"text-align: right;\">\n",
       "      <th></th>\n",
       "      <th>run</th>\n",
       "      <th>epoch</th>\n",
       "      <th>loss</th>\n",
       "      <th>accuracy</th>\n",
       "      <th>epoch duration</th>\n",
       "      <th>run duration</th>\n",
       "      <th>lr</th>\n",
       "      <th>batch_size</th>\n",
       "    </tr>\n",
       "  </thead>\n",
       "  <tbody>\n",
       "    <tr>\n",
       "      <th>0</th>\n",
       "      <td>1</td>\n",
       "      <td>1</td>\n",
       "      <td>2.377505</td>\n",
       "      <td>0.098917</td>\n",
       "      <td>18.775885</td>\n",
       "      <td>18.775892</td>\n",
       "      <td>0.10</td>\n",
       "      <td>100</td>\n",
       "    </tr>\n",
       "    <tr>\n",
       "      <th>1</th>\n",
       "      <td>1</td>\n",
       "      <td>2</td>\n",
       "      <td>2.310033</td>\n",
       "      <td>0.097967</td>\n",
       "      <td>18.732474</td>\n",
       "      <td>37.528050</td>\n",
       "      <td>0.10</td>\n",
       "      <td>100</td>\n",
       "    </tr>\n",
       "    <tr>\n",
       "      <th>2</th>\n",
       "      <td>1</td>\n",
       "      <td>3</td>\n",
       "      <td>2.308759</td>\n",
       "      <td>0.098533</td>\n",
       "      <td>18.588844</td>\n",
       "      <td>56.129161</td>\n",
       "      <td>0.10</td>\n",
       "      <td>100</td>\n",
       "    </tr>\n",
       "    <tr>\n",
       "      <th>3</th>\n",
       "      <td>1</td>\n",
       "      <td>4</td>\n",
       "      <td>2.309538</td>\n",
       "      <td>0.100583</td>\n",
       "      <td>19.080706</td>\n",
       "      <td>75.219972</td>\n",
       "      <td>0.10</td>\n",
       "      <td>100</td>\n",
       "    </tr>\n",
       "    <tr>\n",
       "      <th>4</th>\n",
       "      <td>1</td>\n",
       "      <td>5</td>\n",
       "      <td>2.308906</td>\n",
       "      <td>0.103133</td>\n",
       "      <td>18.664310</td>\n",
       "      <td>93.895180</td>\n",
       "      <td>0.10</td>\n",
       "      <td>100</td>\n",
       "    </tr>\n",
       "    <tr>\n",
       "      <th>5</th>\n",
       "      <td>2</td>\n",
       "      <td>1</td>\n",
       "      <td>2.582166</td>\n",
       "      <td>0.100133</td>\n",
       "      <td>16.676332</td>\n",
       "      <td>16.676369</td>\n",
       "      <td>0.10</td>\n",
       "      <td>300</td>\n",
       "    </tr>\n",
       "    <tr>\n",
       "      <th>6</th>\n",
       "      <td>2</td>\n",
       "      <td>2</td>\n",
       "      <td>2.306578</td>\n",
       "      <td>0.100317</td>\n",
       "      <td>16.375899</td>\n",
       "      <td>33.063337</td>\n",
       "      <td>0.10</td>\n",
       "      <td>300</td>\n",
       "    </tr>\n",
       "    <tr>\n",
       "      <th>7</th>\n",
       "      <td>2</td>\n",
       "      <td>3</td>\n",
       "      <td>2.305686</td>\n",
       "      <td>0.099800</td>\n",
       "      <td>16.636636</td>\n",
       "      <td>49.712624</td>\n",
       "      <td>0.10</td>\n",
       "      <td>300</td>\n",
       "    </tr>\n",
       "    <tr>\n",
       "      <th>8</th>\n",
       "      <td>2</td>\n",
       "      <td>4</td>\n",
       "      <td>2.306399</td>\n",
       "      <td>0.100033</td>\n",
       "      <td>16.533015</td>\n",
       "      <td>66.257261</td>\n",
       "      <td>0.10</td>\n",
       "      <td>300</td>\n",
       "    </tr>\n",
       "    <tr>\n",
       "      <th>9</th>\n",
       "      <td>2</td>\n",
       "      <td>5</td>\n",
       "      <td>2.307149</td>\n",
       "      <td>0.100267</td>\n",
       "      <td>16.779823</td>\n",
       "      <td>83.049683</td>\n",
       "      <td>0.10</td>\n",
       "      <td>300</td>\n",
       "    </tr>\n",
       "    <tr>\n",
       "      <th>10</th>\n",
       "      <td>3</td>\n",
       "      <td>1</td>\n",
       "      <td>0.519230</td>\n",
       "      <td>0.805667</td>\n",
       "      <td>18.482240</td>\n",
       "      <td>18.482284</td>\n",
       "      <td>0.01</td>\n",
       "      <td>100</td>\n",
       "    </tr>\n",
       "    <tr>\n",
       "      <th>11</th>\n",
       "      <td>3</td>\n",
       "      <td>2</td>\n",
       "      <td>0.379579</td>\n",
       "      <td>0.860433</td>\n",
       "      <td>18.620033</td>\n",
       "      <td>37.115288</td>\n",
       "      <td>0.01</td>\n",
       "      <td>100</td>\n",
       "    </tr>\n",
       "    <tr>\n",
       "      <th>12</th>\n",
       "      <td>3</td>\n",
       "      <td>3</td>\n",
       "      <td>0.357060</td>\n",
       "      <td>0.870117</td>\n",
       "      <td>18.673754</td>\n",
       "      <td>55.802286</td>\n",
       "      <td>0.01</td>\n",
       "      <td>100</td>\n",
       "    </tr>\n",
       "    <tr>\n",
       "      <th>13</th>\n",
       "      <td>3</td>\n",
       "      <td>4</td>\n",
       "      <td>0.342360</td>\n",
       "      <td>0.875067</td>\n",
       "      <td>18.579353</td>\n",
       "      <td>74.400566</td>\n",
       "      <td>0.01</td>\n",
       "      <td>100</td>\n",
       "    </tr>\n",
       "    <tr>\n",
       "      <th>14</th>\n",
       "      <td>3</td>\n",
       "      <td>5</td>\n",
       "      <td>0.333386</td>\n",
       "      <td>0.878533</td>\n",
       "      <td>19.225756</td>\n",
       "      <td>93.640408</td>\n",
       "      <td>0.01</td>\n",
       "      <td>100</td>\n",
       "    </tr>\n",
       "    <tr>\n",
       "      <th>15</th>\n",
       "      <td>4</td>\n",
       "      <td>1</td>\n",
       "      <td>0.659199</td>\n",
       "      <td>0.753000</td>\n",
       "      <td>16.730260</td>\n",
       "      <td>16.730321</td>\n",
       "      <td>0.01</td>\n",
       "      <td>300</td>\n",
       "    </tr>\n",
       "    <tr>\n",
       "      <th>16</th>\n",
       "      <td>4</td>\n",
       "      <td>2</td>\n",
       "      <td>0.385413</td>\n",
       "      <td>0.858433</td>\n",
       "      <td>16.728387</td>\n",
       "      <td>33.472866</td>\n",
       "      <td>0.01</td>\n",
       "      <td>300</td>\n",
       "    </tr>\n",
       "    <tr>\n",
       "      <th>17</th>\n",
       "      <td>4</td>\n",
       "      <td>3</td>\n",
       "      <td>0.341283</td>\n",
       "      <td>0.874217</td>\n",
       "      <td>16.464149</td>\n",
       "      <td>49.951880</td>\n",
       "      <td>0.01</td>\n",
       "      <td>300</td>\n",
       "    </tr>\n",
       "    <tr>\n",
       "      <th>18</th>\n",
       "      <td>4</td>\n",
       "      <td>4</td>\n",
       "      <td>0.320004</td>\n",
       "      <td>0.881183</td>\n",
       "      <td>16.755469</td>\n",
       "      <td>66.722331</td>\n",
       "      <td>0.01</td>\n",
       "      <td>300</td>\n",
       "    </tr>\n",
       "    <tr>\n",
       "      <th>19</th>\n",
       "      <td>4</td>\n",
       "      <td>5</td>\n",
       "      <td>0.303454</td>\n",
       "      <td>0.887850</td>\n",
       "      <td>16.965937</td>\n",
       "      <td>83.703748</td>\n",
       "      <td>0.01</td>\n",
       "      <td>300</td>\n",
       "    </tr>\n",
       "  </tbody>\n",
       "</table>\n",
       "</div>"
      ],
      "text/plain": [
       "    run  epoch      loss  accuracy  epoch duration  run duration    lr  \\\n",
       "0     1      1  2.377505  0.098917       18.775885     18.775892  0.10   \n",
       "1     1      2  2.310033  0.097967       18.732474     37.528050  0.10   \n",
       "2     1      3  2.308759  0.098533       18.588844     56.129161  0.10   \n",
       "3     1      4  2.309538  0.100583       19.080706     75.219972  0.10   \n",
       "4     1      5  2.308906  0.103133       18.664310     93.895180  0.10   \n",
       "5     2      1  2.582166  0.100133       16.676332     16.676369  0.10   \n",
       "6     2      2  2.306578  0.100317       16.375899     33.063337  0.10   \n",
       "7     2      3  2.305686  0.099800       16.636636     49.712624  0.10   \n",
       "8     2      4  2.306399  0.100033       16.533015     66.257261  0.10   \n",
       "9     2      5  2.307149  0.100267       16.779823     83.049683  0.10   \n",
       "10    3      1  0.519230  0.805667       18.482240     18.482284  0.01   \n",
       "11    3      2  0.379579  0.860433       18.620033     37.115288  0.01   \n",
       "12    3      3  0.357060  0.870117       18.673754     55.802286  0.01   \n",
       "13    3      4  0.342360  0.875067       18.579353     74.400566  0.01   \n",
       "14    3      5  0.333386  0.878533       19.225756     93.640408  0.01   \n",
       "15    4      1  0.659199  0.753000       16.730260     16.730321  0.01   \n",
       "16    4      2  0.385413  0.858433       16.728387     33.472866  0.01   \n",
       "17    4      3  0.341283  0.874217       16.464149     49.951880  0.01   \n",
       "18    4      4  0.320004  0.881183       16.755469     66.722331  0.01   \n",
       "19    4      5  0.303454  0.887850       16.965937     83.703748  0.01   \n",
       "\n",
       "    batch_size  \n",
       "0          100  \n",
       "1          100  \n",
       "2          100  \n",
       "3          100  \n",
       "4          100  \n",
       "5          300  \n",
       "6          300  \n",
       "7          300  \n",
       "8          300  \n",
       "9          300  \n",
       "10         100  \n",
       "11         100  \n",
       "12         100  \n",
       "13         100  \n",
       "14         100  \n",
       "15         300  \n",
       "16         300  \n",
       "17         300  \n",
       "18         300  \n",
       "19         300  "
      ]
     },
     "metadata": {},
     "output_type": "display_data"
    }
   ],
   "source": [
    "params=OrderedDict(\n",
    "    lr=[0.1,0.01],\n",
    "    batch_size=[100,300])\n",
    "\n",
    "m=RunManager()\n",
    "\n",
    "for run in RunBuilder.get_runs(params):\n",
    "    network=Network()\n",
    "    optimizer=optim.Adam(network.parameters(), lr=run.lr)\n",
    "    train_loader=torch.utils.data.DataLoader(train, batch_size=run.batch_size, shuffle=True)\n",
    "    \n",
    "    \n",
    "    epochs=5\n",
    "    m.begin_run(run,network,train_loader)\n",
    "    for epoch in range(epochs):\n",
    "        m.begin_epoch()\n",
    "        for batch in train_loader:\n",
    "            images,labels=batch\n",
    "            preds=network(images)\n",
    "\n",
    "            loss=F.cross_entropy(preds,labels)\n",
    "\n",
    "            optimizer.zero_grad()\n",
    "            loss.backward()\n",
    "            optimizer.step()\n",
    "            \n",
    "            m.track_loss(loss,batch)\n",
    "            m.track_num_correct(preds,labels)\n",
    "        m.end_epoch()\n",
    "    m.end_run()\n",
    "m.save(\"results\")"
   ]
  },
  {
   "cell_type": "markdown",
   "id": "1a61fcff",
   "metadata": {
    "papermill": {
     "duration": 0.03247,
     "end_time": "2022-06-03T12:42:44.520580",
     "exception": false,
     "start_time": "2022-06-03T12:42:44.488110",
     "status": "completed"
    },
    "tags": []
   },
   "source": [
    "##### As per the above testing of runs,we found the best lr=0.01 and batch_size=300."
   ]
  },
  {
   "cell_type": "code",
   "execution_count": 16,
   "id": "6b077308",
   "metadata": {
    "execution": {
     "iopub.execute_input": "2022-06-03T12:42:44.594934Z",
     "iopub.status.busy": "2022-06-03T12:42:44.593751Z",
     "iopub.status.idle": "2022-06-03T12:45:32.055163Z",
     "shell.execute_reply": "2022-06-03T12:45:32.055701Z",
     "shell.execute_reply.started": "2022-06-03T12:09:37.869273Z"
    },
    "papermill": {
     "duration": 167.502494,
     "end_time": "2022-06-03T12:45:32.055893",
     "exception": false,
     "start_time": "2022-06-03T12:42:44.553399",
     "status": "completed"
    },
    "tags": []
   },
   "outputs": [
    {
     "name": "stdout",
     "output_type": "stream",
     "text": [
      "Epoch:0 loss:120.21571150422096 Total Correct:46464\n",
      "Epoch:1 loss:74.42490249872208 Total Correct:51824\n",
      "Epoch:2 loss:65.21747210621834 Total Correct:52730\n",
      "Epoch:3 loss:61.65440621972084 Total Correct:53188\n",
      "Epoch:4 loss:58.84904834628105 Total Correct:53436\n",
      "Epoch:5 loss:55.90016897022724 Total Correct:53744\n",
      "Epoch:6 loss:53.684399858117104 Total Correct:54062\n",
      "Epoch:7 loss:52.96388377249241 Total Correct:54094\n",
      "Epoch:8 loss:51.66337588429451 Total Correct:54270\n",
      "Epoch:9 loss:50.017855018377304 Total Correct:54460\n"
     ]
    }
   ],
   "source": [
    "batch_size=300\n",
    "lr=0.01\n",
    "epochs=10\n",
    "\n",
    "\n",
    "network=Network()\n",
    "optimizer=optim.Adam(network.parameters(), lr=lr)\n",
    "train_loader=torch.utils.data.DataLoader(train, batch_size=batch_size, shuffle=True)\n",
    "\n",
    "for epoch in range(epochs):\n",
    "    \n",
    "    total_correct=0\n",
    "    total_loss=0\n",
    "    for batch in train_loader:\n",
    "        images,labels=batch\n",
    "        preds=network(images)\n",
    "\n",
    "        loss=F.cross_entropy(preds,labels)\n",
    "        total_loss+=loss.item()\n",
    "        total_correct+=get_count_correct(preds,labels)\n",
    "\n",
    "        optimizer.zero_grad()\n",
    "        loss.backward()\n",
    "        optimizer.step()\n",
    "\n",
    "    print(f\"Epoch:{epoch} loss:{total_loss} Total Correct:{total_correct}\")"
   ]
  },
  {
   "cell_type": "code",
   "execution_count": 17,
   "id": "d2b92f23",
   "metadata": {
    "execution": {
     "iopub.execute_input": "2022-06-03T12:45:32.130033Z",
     "iopub.status.busy": "2022-06-03T12:45:32.129447Z",
     "iopub.status.idle": "2022-06-03T12:45:32.134169Z",
     "shell.execute_reply": "2022-06-03T12:45:32.134728Z",
     "shell.execute_reply.started": "2022-06-03T12:15:39.476178Z"
    },
    "papermill": {
     "duration": 0.043557,
     "end_time": "2022-06-03T12:45:32.134884",
     "exception": false,
     "start_time": "2022-06-03T12:45:32.091327",
     "status": "completed"
    },
    "tags": []
   },
   "outputs": [],
   "source": [
    "# import path\n",
    "path='/kaggle/working/'\n",
    "torch.save(network.state_dict(),'checkpoint.pth')"
   ]
  },
  {
   "cell_type": "code",
   "execution_count": 18,
   "id": "d409f89d",
   "metadata": {
    "execution": {
     "iopub.execute_input": "2022-06-03T12:45:32.209443Z",
     "iopub.status.busy": "2022-06-03T12:45:32.208836Z",
     "iopub.status.idle": "2022-06-03T12:45:32.217657Z",
     "shell.execute_reply": "2022-06-03T12:45:32.218146Z",
     "shell.execute_reply.started": "2022-06-03T12:12:55.500460Z"
    },
    "papermill": {
     "duration": 0.047314,
     "end_time": "2022-06-03T12:45:32.218327",
     "exception": false,
     "start_time": "2022-06-03T12:45:32.171013",
     "status": "completed"
    },
    "tags": []
   },
   "outputs": [],
   "source": [
    "batch_size=1000\n",
    "test=torchvision.datasets.FashionMNIST(root='../data/input', train=False,\n",
    "                                       download=True,\n",
    "                                       transform=transforms.Compose([transforms.ToTensor(),\n",
    "                                 transforms.Normalize(mean,std)]))\n",
    "test_loader=torch.utils.data.DataLoader(test, batch_size=batch_size,\n",
    "                                         shuffle=False, num_workers=1)"
   ]
  },
  {
   "cell_type": "code",
   "execution_count": 19,
   "id": "d25ad9d5",
   "metadata": {
    "execution": {
     "iopub.execute_input": "2022-06-03T12:45:32.292441Z",
     "iopub.status.busy": "2022-06-03T12:45:32.291794Z",
     "iopub.status.idle": "2022-06-03T12:45:34.280988Z",
     "shell.execute_reply": "2022-06-03T12:45:34.282010Z",
     "shell.execute_reply.started": "2022-06-03T12:13:08.238045Z"
    },
    "papermill": {
     "duration": 2.028163,
     "end_time": "2022-06-03T12:45:34.282339",
     "exception": false,
     "start_time": "2022-06-03T12:45:32.254176",
     "status": "completed"
    },
    "tags": []
   },
   "outputs": [
    {
     "name": "stdout",
     "output_type": "stream",
     "text": [
      "Accuracy of the network on the 10000 test images: 88 %\n"
     ]
    }
   ],
   "source": [
    "correct = 0\n",
    "total = 0\n",
    "# since we're not training, we don't need to calculate the gradients for our outputs\n",
    "with torch.no_grad():\n",
    "    for data in test_loader:\n",
    "        images, labels = data\n",
    "        # calculate outputs by running images through the network\n",
    "        outputs = network(images)\n",
    "        # the class with the highest energy is what we choose as prediction\n",
    "        _, predicted = torch.max(outputs.data, 1)\n",
    "        total += labels.size(0)\n",
    "        correct += (predicted == labels).sum().item()\n",
    "        \n",
    "print(f'Accuracy of the network on the 10000 test images: {100 * correct // total} %')"
   ]
  },
  {
   "cell_type": "markdown",
   "id": "fb39a958",
   "metadata": {
    "papermill": {
     "duration": 0.035464,
     "end_time": "2022-06-03T12:45:34.355184",
     "exception": false,
     "start_time": "2022-06-03T12:45:34.319720",
     "status": "completed"
    },
    "tags": []
   },
   "source": [
    "### Conclusion:\n",
    "#### This baseline model is able to acheive 88% accuracy on test data which seems good given the network size and architecture. "
   ]
  },
  {
   "cell_type": "code",
   "execution_count": null,
   "id": "5850f7f4",
   "metadata": {
    "papermill": {
     "duration": 0.036443,
     "end_time": "2022-06-03T12:45:34.427318",
     "exception": false,
     "start_time": "2022-06-03T12:45:34.390875",
     "status": "completed"
    },
    "tags": []
   },
   "outputs": [],
   "source": []
  }
 ],
 "metadata": {
  "kernelspec": {
   "display_name": "Python 3",
   "language": "python",
   "name": "python3"
  },
  "language_info": {
   "codemirror_mode": {
    "name": "ipython",
    "version": 3
   },
   "file_extension": ".py",
   "mimetype": "text/x-python",
   "name": "python",
   "nbconvert_exporter": "python",
   "pygments_lexer": "ipython3",
   "version": "3.7.10"
  },
  "papermill": {
   "default_parameters": {},
   "duration": 714.909506,
   "end_time": "2022-06-03T12:45:36.010245",
   "environment_variables": {},
   "exception": null,
   "input_path": "__notebook__.ipynb",
   "output_path": "__notebook__.ipynb",
   "parameters": {},
   "start_time": "2022-06-03T12:33:41.100739",
   "version": "2.3.3"
  },
  "widgets": {
   "application/vnd.jupyter.widget-state+json": {
    "state": {
     "0378dd67d3b5436692a971e0c3f7069d": {
      "model_module": "@jupyter-widgets/controls",
      "model_module_version": "1.5.0",
      "model_name": "HTMLModel",
      "state": {
       "_dom_classes": [],
       "_model_module": "@jupyter-widgets/controls",
       "_model_module_version": "1.5.0",
       "_model_name": "HTMLModel",
       "_view_count": null,
       "_view_module": "@jupyter-widgets/controls",
       "_view_module_version": "1.5.0",
       "_view_name": "HTMLView",
       "description": "",
       "description_tooltip": null,
       "layout": "IPY_MODEL_927c02b556ad4bca9b35034e15dd606c",
       "placeholder": "​",
       "style": "IPY_MODEL_a04c09938e9d4e3c9600340b577e2ef0",
       "value": " 26427392/? [00:20&lt;00:00, 17537974.47it/s]"
      }
     },
     "0593e72d36b74454b5beb63b52fa1a84": {
      "model_module": "@jupyter-widgets/controls",
      "model_module_version": "1.5.0",
      "model_name": "HTMLModel",
      "state": {
       "_dom_classes": [],
       "_model_module": "@jupyter-widgets/controls",
       "_model_module_version": "1.5.0",
       "_model_name": "HTMLModel",
       "_view_count": null,
       "_view_module": "@jupyter-widgets/controls",
       "_view_module_version": "1.5.0",
       "_view_name": "HTMLView",
       "description": "",
       "description_tooltip": null,
       "layout": "IPY_MODEL_26f0b31473604c41b2f4d07972915984",
       "placeholder": "​",
       "style": "IPY_MODEL_4d410ea1c3ad468299b66ba6f4e6900b",
       "value": "  0%"
      }
     },
     "0d5f4db3b17f481ebf55c40fc672e593": {
      "model_module": "@jupyter-widgets/controls",
      "model_module_version": "1.5.0",
      "model_name": "FloatProgressModel",
      "state": {
       "_dom_classes": [],
       "_model_module": "@jupyter-widgets/controls",
       "_model_module_version": "1.5.0",
       "_model_name": "FloatProgressModel",
       "_view_count": null,
       "_view_module": "@jupyter-widgets/controls",
       "_view_module_version": "1.5.0",
       "_view_name": "ProgressView",
       "bar_style": "info",
       "description": "",
       "description_tooltip": null,
       "layout": "IPY_MODEL_ed47475e04c144b6a646ad418082dd8d",
       "max": 1.0,
       "min": 0.0,
       "orientation": "horizontal",
       "style": "IPY_MODEL_4b2f947546ba4dc298fee7f5b4db55dd",
       "value": 1.0
      }
     },
     "103cb6ff3a3f4e89a0fc59c63759ef31": {
      "model_module": "@jupyter-widgets/controls",
      "model_module_version": "1.5.0",
      "model_name": "HTMLModel",
      "state": {
       "_dom_classes": [],
       "_model_module": "@jupyter-widgets/controls",
       "_model_module_version": "1.5.0",
       "_model_name": "HTMLModel",
       "_view_count": null,
       "_view_module": "@jupyter-widgets/controls",
       "_view_module_version": "1.5.0",
       "_view_name": "HTMLView",
       "description": "",
       "description_tooltip": null,
       "layout": "IPY_MODEL_b958112074614931b05a81c1ef260557",
       "placeholder": "​",
       "style": "IPY_MODEL_27d6d56a700840dfa9094d767d199679",
       "value": " 0/5148 [00:00&lt;?, ?it/s]"
      }
     },
     "11e7c08095ec476a840ea06eebd50c7b": {
      "model_module": "@jupyter-widgets/controls",
      "model_module_version": "1.5.0",
      "model_name": "FloatProgressModel",
      "state": {
       "_dom_classes": [],
       "_model_module": "@jupyter-widgets/controls",
       "_model_module_version": "1.5.0",
       "_model_name": "FloatProgressModel",
       "_view_count": null,
       "_view_module": "@jupyter-widgets/controls",
       "_view_module_version": "1.5.0",
       "_view_name": "ProgressView",
       "bar_style": "info",
       "description": "",
       "description_tooltip": null,
       "layout": "IPY_MODEL_ba3e9951a0744fd584d78f82c72bd5b8",
       "max": 1.0,
       "min": 0.0,
       "orientation": "horizontal",
       "style": "IPY_MODEL_86b93aa8a5ea428fbfbb9f8ce9aed45d",
       "value": 0.0
      }
     },
     "120bd6fa4c4d4b238bef582e5d416f16": {
      "model_module": "@jupyter-widgets/controls",
      "model_module_version": "1.5.0",
      "model_name": "FloatProgressModel",
      "state": {
       "_dom_classes": [],
       "_model_module": "@jupyter-widgets/controls",
       "_model_module_version": "1.5.0",
       "_model_name": "FloatProgressModel",
       "_view_count": null,
       "_view_module": "@jupyter-widgets/controls",
       "_view_module_version": "1.5.0",
       "_view_name": "ProgressView",
       "bar_style": "info",
       "description": "",
       "description_tooltip": null,
       "layout": "IPY_MODEL_93b3d2ee1dbc4505bca36e483a90038e",
       "max": 1.0,
       "min": 0.0,
       "orientation": "horizontal",
       "style": "IPY_MODEL_272eee8ae0ee45b6b1975d0eba3b5332",
       "value": 1.0
      }
     },
     "1374f57ddcc74f20a41eda19fee73c4d": {
      "model_module": "@jupyter-widgets/controls",
      "model_module_version": "1.5.0",
      "model_name": "HTMLModel",
      "state": {
       "_dom_classes": [],
       "_model_module": "@jupyter-widgets/controls",
       "_model_module_version": "1.5.0",
       "_model_name": "HTMLModel",
       "_view_count": null,
       "_view_module": "@jupyter-widgets/controls",
       "_view_module_version": "1.5.0",
       "_view_name": "HTMLView",
       "description": "",
       "description_tooltip": null,
       "layout": "IPY_MODEL_ea54785ba1a843318d1b1eda28c516b0",
       "placeholder": "​",
       "style": "IPY_MODEL_f7a10db801984d75bf727198acc06eb7",
       "value": ""
      }
     },
     "1faf3cddb58e451796f6cd5d2431929f": {
      "model_module": "@jupyter-widgets/controls",
      "model_module_version": "1.5.0",
      "model_name": "ProgressStyleModel",
      "state": {
       "_model_module": "@jupyter-widgets/controls",
       "_model_module_version": "1.5.0",
       "_model_name": "ProgressStyleModel",
       "_view_count": null,
       "_view_module": "@jupyter-widgets/base",
       "_view_module_version": "1.2.0",
       "_view_name": "StyleView",
       "bar_color": null,
       "description_width": ""
      }
     },
     "26f0b31473604c41b2f4d07972915984": {
      "model_module": "@jupyter-widgets/base",
      "model_module_version": "1.2.0",
      "model_name": "LayoutModel",
      "state": {
       "_model_module": "@jupyter-widgets/base",
       "_model_module_version": "1.2.0",
       "_model_name": "LayoutModel",
       "_view_count": null,
       "_view_module": "@jupyter-widgets/base",
       "_view_module_version": "1.2.0",
       "_view_name": "LayoutView",
       "align_content": null,
       "align_items": null,
       "align_self": null,
       "border": null,
       "bottom": null,
       "display": null,
       "flex": null,
       "flex_flow": null,
       "grid_area": null,
       "grid_auto_columns": null,
       "grid_auto_flow": null,
       "grid_auto_rows": null,
       "grid_column": null,
       "grid_gap": null,
       "grid_row": null,
       "grid_template_areas": null,
       "grid_template_columns": null,
       "grid_template_rows": null,
       "height": null,
       "justify_content": null,
       "justify_items": null,
       "left": null,
       "margin": null,
       "max_height": null,
       "max_width": null,
       "min_height": null,
       "min_width": null,
       "object_fit": null,
       "object_position": null,
       "order": null,
       "overflow": null,
       "overflow_x": null,
       "overflow_y": null,
       "padding": null,
       "right": null,
       "top": null,
       "visibility": null,
       "width": null
      }
     },
     "272eee8ae0ee45b6b1975d0eba3b5332": {
      "model_module": "@jupyter-widgets/controls",
      "model_module_version": "1.5.0",
      "model_name": "ProgressStyleModel",
      "state": {
       "_model_module": "@jupyter-widgets/controls",
       "_model_module_version": "1.5.0",
       "_model_name": "ProgressStyleModel",
       "_view_count": null,
       "_view_module": "@jupyter-widgets/base",
       "_view_module_version": "1.2.0",
       "_view_name": "StyleView",
       "bar_color": null,
       "description_width": ""
      }
     },
     "27d6d56a700840dfa9094d767d199679": {
      "model_module": "@jupyter-widgets/controls",
      "model_module_version": "1.5.0",
      "model_name": "DescriptionStyleModel",
      "state": {
       "_model_module": "@jupyter-widgets/controls",
       "_model_module_version": "1.5.0",
       "_model_name": "DescriptionStyleModel",
       "_view_count": null,
       "_view_module": "@jupyter-widgets/base",
       "_view_module_version": "1.2.0",
       "_view_name": "StyleView",
       "description_width": ""
      }
     },
     "2b79f8d88445443b824340da061aa1f7": {
      "model_module": "@jupyter-widgets/controls",
      "model_module_version": "1.5.0",
      "model_name": "DescriptionStyleModel",
      "state": {
       "_model_module": "@jupyter-widgets/controls",
       "_model_module_version": "1.5.0",
       "_model_name": "DescriptionStyleModel",
       "_view_count": null,
       "_view_module": "@jupyter-widgets/base",
       "_view_module_version": "1.2.0",
       "_view_name": "StyleView",
       "description_width": ""
      }
     },
     "3b248861736d4b8ea33f7f1d11d3fb3a": {
      "model_module": "@jupyter-widgets/controls",
      "model_module_version": "1.5.0",
      "model_name": "DescriptionStyleModel",
      "state": {
       "_model_module": "@jupyter-widgets/controls",
       "_model_module_version": "1.5.0",
       "_model_name": "DescriptionStyleModel",
       "_view_count": null,
       "_view_module": "@jupyter-widgets/base",
       "_view_module_version": "1.2.0",
       "_view_name": "StyleView",
       "description_width": ""
      }
     },
     "4b2f947546ba4dc298fee7f5b4db55dd": {
      "model_module": "@jupyter-widgets/controls",
      "model_module_version": "1.5.0",
      "model_name": "ProgressStyleModel",
      "state": {
       "_model_module": "@jupyter-widgets/controls",
       "_model_module_version": "1.5.0",
       "_model_name": "ProgressStyleModel",
       "_view_count": null,
       "_view_module": "@jupyter-widgets/base",
       "_view_module_version": "1.2.0",
       "_view_name": "StyleView",
       "bar_color": null,
       "description_width": ""
      }
     },
     "4d410ea1c3ad468299b66ba6f4e6900b": {
      "model_module": "@jupyter-widgets/controls",
      "model_module_version": "1.5.0",
      "model_name": "DescriptionStyleModel",
      "state": {
       "_model_module": "@jupyter-widgets/controls",
       "_model_module_version": "1.5.0",
       "_model_name": "DescriptionStyleModel",
       "_view_count": null,
       "_view_module": "@jupyter-widgets/base",
       "_view_module_version": "1.2.0",
       "_view_name": "StyleView",
       "description_width": ""
      }
     },
     "6573ba7094024f9785d7f85e27382f38": {
      "model_module": "@jupyter-widgets/controls",
      "model_module_version": "1.5.0",
      "model_name": "HTMLModel",
      "state": {
       "_dom_classes": [],
       "_model_module": "@jupyter-widgets/controls",
       "_model_module_version": "1.5.0",
       "_model_name": "HTMLModel",
       "_view_count": null,
       "_view_module": "@jupyter-widgets/controls",
       "_view_module_version": "1.5.0",
       "_view_name": "HTMLView",
       "description": "",
       "description_tooltip": null,
       "layout": "IPY_MODEL_f602a3887ad141ed9c975a85d6c84096",
       "placeholder": "​",
       "style": "IPY_MODEL_9a10f6c889c24e93967354e8b51b3424",
       "value": ""
      }
     },
     "6c4b6e7d95df4dbbaa5bd09fa56ad888": {
      "model_module": "@jupyter-widgets/base",
      "model_module_version": "1.2.0",
      "model_name": "LayoutModel",
      "state": {
       "_model_module": "@jupyter-widgets/base",
       "_model_module_version": "1.2.0",
       "_model_name": "LayoutModel",
       "_view_count": null,
       "_view_module": "@jupyter-widgets/base",
       "_view_module_version": "1.2.0",
       "_view_name": "LayoutView",
       "align_content": null,
       "align_items": null,
       "align_self": null,
       "border": null,
       "bottom": null,
       "display": null,
       "flex": null,
       "flex_flow": null,
       "grid_area": null,
       "grid_auto_columns": null,
       "grid_auto_flow": null,
       "grid_auto_rows": null,
       "grid_column": null,
       "grid_gap": null,
       "grid_row": null,
       "grid_template_areas": null,
       "grid_template_columns": null,
       "grid_template_rows": null,
       "height": null,
       "justify_content": null,
       "justify_items": null,
       "left": null,
       "margin": null,
       "max_height": null,
       "max_width": null,
       "min_height": null,
       "min_width": null,
       "object_fit": null,
       "object_position": null,
       "order": null,
       "overflow": null,
       "overflow_x": null,
       "overflow_y": null,
       "padding": null,
       "right": null,
       "top": null,
       "visibility": null,
       "width": null
      }
     },
     "765dbf51221b473682b25af048c12f3d": {
      "model_module": "@jupyter-widgets/base",
      "model_module_version": "1.2.0",
      "model_name": "LayoutModel",
      "state": {
       "_model_module": "@jupyter-widgets/base",
       "_model_module_version": "1.2.0",
       "_model_name": "LayoutModel",
       "_view_count": null,
       "_view_module": "@jupyter-widgets/base",
       "_view_module_version": "1.2.0",
       "_view_name": "LayoutView",
       "align_content": null,
       "align_items": null,
       "align_self": null,
       "border": null,
       "bottom": null,
       "display": null,
       "flex": null,
       "flex_flow": null,
       "grid_area": null,
       "grid_auto_columns": null,
       "grid_auto_flow": null,
       "grid_auto_rows": null,
       "grid_column": null,
       "grid_gap": null,
       "grid_row": null,
       "grid_template_areas": null,
       "grid_template_columns": null,
       "grid_template_rows": null,
       "height": null,
       "justify_content": null,
       "justify_items": null,
       "left": null,
       "margin": null,
       "max_height": null,
       "max_width": null,
       "min_height": null,
       "min_width": null,
       "object_fit": null,
       "object_position": null,
       "order": null,
       "overflow": null,
       "overflow_x": null,
       "overflow_y": null,
       "padding": null,
       "right": null,
       "top": null,
       "visibility": null,
       "width": null
      }
     },
     "786539cece1844eaa84caa835fad886a": {
      "model_module": "@jupyter-widgets/base",
      "model_module_version": "1.2.0",
      "model_name": "LayoutModel",
      "state": {
       "_model_module": "@jupyter-widgets/base",
       "_model_module_version": "1.2.0",
       "_model_name": "LayoutModel",
       "_view_count": null,
       "_view_module": "@jupyter-widgets/base",
       "_view_module_version": "1.2.0",
       "_view_name": "LayoutView",
       "align_content": null,
       "align_items": null,
       "align_self": null,
       "border": null,
       "bottom": null,
       "display": null,
       "flex": null,
       "flex_flow": null,
       "grid_area": null,
       "grid_auto_columns": null,
       "grid_auto_flow": null,
       "grid_auto_rows": null,
       "grid_column": null,
       "grid_gap": null,
       "grid_row": null,
       "grid_template_areas": null,
       "grid_template_columns": null,
       "grid_template_rows": null,
       "height": null,
       "justify_content": null,
       "justify_items": null,
       "left": null,
       "margin": null,
       "max_height": null,
       "max_width": null,
       "min_height": null,
       "min_width": null,
       "object_fit": null,
       "object_position": null,
       "order": null,
       "overflow": null,
       "overflow_x": null,
       "overflow_y": null,
       "padding": null,
       "right": null,
       "top": null,
       "visibility": null,
       "width": null
      }
     },
     "7d26ae0b0bc8418d81eaaffa8500e135": {
      "model_module": "@jupyter-widgets/base",
      "model_module_version": "1.2.0",
      "model_name": "LayoutModel",
      "state": {
       "_model_module": "@jupyter-widgets/base",
       "_model_module_version": "1.2.0",
       "_model_name": "LayoutModel",
       "_view_count": null,
       "_view_module": "@jupyter-widgets/base",
       "_view_module_version": "1.2.0",
       "_view_name": "LayoutView",
       "align_content": null,
       "align_items": null,
       "align_self": null,
       "border": null,
       "bottom": null,
       "display": null,
       "flex": null,
       "flex_flow": null,
       "grid_area": null,
       "grid_auto_columns": null,
       "grid_auto_flow": null,
       "grid_auto_rows": null,
       "grid_column": null,
       "grid_gap": null,
       "grid_row": null,
       "grid_template_areas": null,
       "grid_template_columns": null,
       "grid_template_rows": null,
       "height": null,
       "justify_content": null,
       "justify_items": null,
       "left": null,
       "margin": null,
       "max_height": null,
       "max_width": null,
       "min_height": null,
       "min_width": null,
       "object_fit": null,
       "object_position": null,
       "order": null,
       "overflow": null,
       "overflow_x": null,
       "overflow_y": null,
       "padding": null,
       "right": null,
       "top": null,
       "visibility": null,
       "width": null
      }
     },
     "86b93aa8a5ea428fbfbb9f8ce9aed45d": {
      "model_module": "@jupyter-widgets/controls",
      "model_module_version": "1.5.0",
      "model_name": "ProgressStyleModel",
      "state": {
       "_model_module": "@jupyter-widgets/controls",
       "_model_module_version": "1.5.0",
       "_model_name": "ProgressStyleModel",
       "_view_count": null,
       "_view_module": "@jupyter-widgets/base",
       "_view_module_version": "1.2.0",
       "_view_name": "StyleView",
       "bar_color": null,
       "description_width": ""
      }
     },
     "927c02b556ad4bca9b35034e15dd606c": {
      "model_module": "@jupyter-widgets/base",
      "model_module_version": "1.2.0",
      "model_name": "LayoutModel",
      "state": {
       "_model_module": "@jupyter-widgets/base",
       "_model_module_version": "1.2.0",
       "_model_name": "LayoutModel",
       "_view_count": null,
       "_view_module": "@jupyter-widgets/base",
       "_view_module_version": "1.2.0",
       "_view_name": "LayoutView",
       "align_content": null,
       "align_items": null,
       "align_self": null,
       "border": null,
       "bottom": null,
       "display": null,
       "flex": null,
       "flex_flow": null,
       "grid_area": null,
       "grid_auto_columns": null,
       "grid_auto_flow": null,
       "grid_auto_rows": null,
       "grid_column": null,
       "grid_gap": null,
       "grid_row": null,
       "grid_template_areas": null,
       "grid_template_columns": null,
       "grid_template_rows": null,
       "height": null,
       "justify_content": null,
       "justify_items": null,
       "left": null,
       "margin": null,
       "max_height": null,
       "max_width": null,
       "min_height": null,
       "min_width": null,
       "object_fit": null,
       "object_position": null,
       "order": null,
       "overflow": null,
       "overflow_x": null,
       "overflow_y": null,
       "padding": null,
       "right": null,
       "top": null,
       "visibility": null,
       "width": null
      }
     },
     "93b3d2ee1dbc4505bca36e483a90038e": {
      "model_module": "@jupyter-widgets/base",
      "model_module_version": "1.2.0",
      "model_name": "LayoutModel",
      "state": {
       "_model_module": "@jupyter-widgets/base",
       "_model_module_version": "1.2.0",
       "_model_name": "LayoutModel",
       "_view_count": null,
       "_view_module": "@jupyter-widgets/base",
       "_view_module_version": "1.2.0",
       "_view_name": "LayoutView",
       "align_content": null,
       "align_items": null,
       "align_self": null,
       "border": null,
       "bottom": null,
       "display": null,
       "flex": null,
       "flex_flow": null,
       "grid_area": null,
       "grid_auto_columns": null,
       "grid_auto_flow": null,
       "grid_auto_rows": null,
       "grid_column": null,
       "grid_gap": null,
       "grid_row": null,
       "grid_template_areas": null,
       "grid_template_columns": null,
       "grid_template_rows": null,
       "height": null,
       "justify_content": null,
       "justify_items": null,
       "left": null,
       "margin": null,
       "max_height": null,
       "max_width": null,
       "min_height": null,
       "min_width": null,
       "object_fit": null,
       "object_position": null,
       "order": null,
       "overflow": null,
       "overflow_x": null,
       "overflow_y": null,
       "padding": null,
       "right": null,
       "top": null,
       "visibility": null,
       "width": "20px"
      }
     },
     "9a10f6c889c24e93967354e8b51b3424": {
      "model_module": "@jupyter-widgets/controls",
      "model_module_version": "1.5.0",
      "model_name": "DescriptionStyleModel",
      "state": {
       "_model_module": "@jupyter-widgets/controls",
       "_model_module_version": "1.5.0",
       "_model_name": "DescriptionStyleModel",
       "_view_count": null,
       "_view_module": "@jupyter-widgets/base",
       "_view_module_version": "1.2.0",
       "_view_name": "StyleView",
       "description_width": ""
      }
     },
     "9c262750a6234790abd48cc76a2ab4ea": {
      "model_module": "@jupyter-widgets/controls",
      "model_module_version": "1.5.0",
      "model_name": "HTMLModel",
      "state": {
       "_dom_classes": [],
       "_model_module": "@jupyter-widgets/controls",
       "_model_module_version": "1.5.0",
       "_model_name": "HTMLModel",
       "_view_count": null,
       "_view_module": "@jupyter-widgets/controls",
       "_view_module_version": "1.5.0",
       "_view_name": "HTMLView",
       "description": "",
       "description_tooltip": null,
       "layout": "IPY_MODEL_e6c812bb7953473099e3ee38d42715dc",
       "placeholder": "​",
       "style": "IPY_MODEL_a00a58946cae48c2be6c8e5493973664",
       "value": " 32768/? [00:16&lt;00:00, 116979.68it/s]"
      }
     },
     "a00a58946cae48c2be6c8e5493973664": {
      "model_module": "@jupyter-widgets/controls",
      "model_module_version": "1.5.0",
      "model_name": "DescriptionStyleModel",
      "state": {
       "_model_module": "@jupyter-widgets/controls",
       "_model_module_version": "1.5.0",
       "_model_name": "DescriptionStyleModel",
       "_view_count": null,
       "_view_module": "@jupyter-widgets/base",
       "_view_module_version": "1.2.0",
       "_view_name": "StyleView",
       "description_width": ""
      }
     },
     "a04c09938e9d4e3c9600340b577e2ef0": {
      "model_module": "@jupyter-widgets/controls",
      "model_module_version": "1.5.0",
      "model_name": "DescriptionStyleModel",
      "state": {
       "_model_module": "@jupyter-widgets/controls",
       "_model_module_version": "1.5.0",
       "_model_name": "DescriptionStyleModel",
       "_view_count": null,
       "_view_module": "@jupyter-widgets/base",
       "_view_module_version": "1.2.0",
       "_view_name": "StyleView",
       "description_width": ""
      }
     },
     "a6f7684f459a4840898a276d10c643e3": {
      "model_module": "@jupyter-widgets/controls",
      "model_module_version": "1.5.0",
      "model_name": "FloatProgressModel",
      "state": {
       "_dom_classes": [],
       "_model_module": "@jupyter-widgets/controls",
       "_model_module_version": "1.5.0",
       "_model_name": "FloatProgressModel",
       "_view_count": null,
       "_view_module": "@jupyter-widgets/controls",
       "_view_module_version": "1.5.0",
       "_view_name": "ProgressView",
       "bar_style": "info",
       "description": "",
       "description_tooltip": null,
       "layout": "IPY_MODEL_aa39f26420804bada85742cb949ff562",
       "max": 1.0,
       "min": 0.0,
       "orientation": "horizontal",
       "style": "IPY_MODEL_1faf3cddb58e451796f6cd5d2431929f",
       "value": 1.0
      }
     },
     "aa39f26420804bada85742cb949ff562": {
      "model_module": "@jupyter-widgets/base",
      "model_module_version": "1.2.0",
      "model_name": "LayoutModel",
      "state": {
       "_model_module": "@jupyter-widgets/base",
       "_model_module_version": "1.2.0",
       "_model_name": "LayoutModel",
       "_view_count": null,
       "_view_module": "@jupyter-widgets/base",
       "_view_module_version": "1.2.0",
       "_view_name": "LayoutView",
       "align_content": null,
       "align_items": null,
       "align_self": null,
       "border": null,
       "bottom": null,
       "display": null,
       "flex": null,
       "flex_flow": null,
       "grid_area": null,
       "grid_auto_columns": null,
       "grid_auto_flow": null,
       "grid_auto_rows": null,
       "grid_column": null,
       "grid_gap": null,
       "grid_row": null,
       "grid_template_areas": null,
       "grid_template_columns": null,
       "grid_template_rows": null,
       "height": null,
       "justify_content": null,
       "justify_items": null,
       "left": null,
       "margin": null,
       "max_height": null,
       "max_width": null,
       "min_height": null,
       "min_width": null,
       "object_fit": null,
       "object_position": null,
       "order": null,
       "overflow": null,
       "overflow_x": null,
       "overflow_y": null,
       "padding": null,
       "right": null,
       "top": null,
       "visibility": null,
       "width": "20px"
      }
     },
     "b958112074614931b05a81c1ef260557": {
      "model_module": "@jupyter-widgets/base",
      "model_module_version": "1.2.0",
      "model_name": "LayoutModel",
      "state": {
       "_model_module": "@jupyter-widgets/base",
       "_model_module_version": "1.2.0",
       "_model_name": "LayoutModel",
       "_view_count": null,
       "_view_module": "@jupyter-widgets/base",
       "_view_module_version": "1.2.0",
       "_view_name": "LayoutView",
       "align_content": null,
       "align_items": null,
       "align_self": null,
       "border": null,
       "bottom": null,
       "display": null,
       "flex": null,
       "flex_flow": null,
       "grid_area": null,
       "grid_auto_columns": null,
       "grid_auto_flow": null,
       "grid_auto_rows": null,
       "grid_column": null,
       "grid_gap": null,
       "grid_row": null,
       "grid_template_areas": null,
       "grid_template_columns": null,
       "grid_template_rows": null,
       "height": null,
       "justify_content": null,
       "justify_items": null,
       "left": null,
       "margin": null,
       "max_height": null,
       "max_width": null,
       "min_height": null,
       "min_width": null,
       "object_fit": null,
       "object_position": null,
       "order": null,
       "overflow": null,
       "overflow_x": null,
       "overflow_y": null,
       "padding": null,
       "right": null,
       "top": null,
       "visibility": null,
       "width": null
      }
     },
     "ba3e9951a0744fd584d78f82c72bd5b8": {
      "model_module": "@jupyter-widgets/base",
      "model_module_version": "1.2.0",
      "model_name": "LayoutModel",
      "state": {
       "_model_module": "@jupyter-widgets/base",
       "_model_module_version": "1.2.0",
       "_model_name": "LayoutModel",
       "_view_count": null,
       "_view_module": "@jupyter-widgets/base",
       "_view_module_version": "1.2.0",
       "_view_name": "LayoutView",
       "align_content": null,
       "align_items": null,
       "align_self": null,
       "border": null,
       "bottom": null,
       "display": null,
       "flex": null,
       "flex_flow": null,
       "grid_area": null,
       "grid_auto_columns": null,
       "grid_auto_flow": null,
       "grid_auto_rows": null,
       "grid_column": null,
       "grid_gap": null,
       "grid_row": null,
       "grid_template_areas": null,
       "grid_template_columns": null,
       "grid_template_rows": null,
       "height": null,
       "justify_content": null,
       "justify_items": null,
       "left": null,
       "margin": null,
       "max_height": null,
       "max_width": null,
       "min_height": null,
       "min_width": null,
       "object_fit": null,
       "object_position": null,
       "order": null,
       "overflow": null,
       "overflow_x": null,
       "overflow_y": null,
       "padding": null,
       "right": null,
       "top": null,
       "visibility": null,
       "width": "20px"
      }
     },
     "bf4a9ee9db944304bf63664f73dd389a": {
      "model_module": "@jupyter-widgets/base",
      "model_module_version": "1.2.0",
      "model_name": "LayoutModel",
      "state": {
       "_model_module": "@jupyter-widgets/base",
       "_model_module_version": "1.2.0",
       "_model_name": "LayoutModel",
       "_view_count": null,
       "_view_module": "@jupyter-widgets/base",
       "_view_module_version": "1.2.0",
       "_view_name": "LayoutView",
       "align_content": null,
       "align_items": null,
       "align_self": null,
       "border": null,
       "bottom": null,
       "display": null,
       "flex": null,
       "flex_flow": null,
       "grid_area": null,
       "grid_auto_columns": null,
       "grid_auto_flow": null,
       "grid_auto_rows": null,
       "grid_column": null,
       "grid_gap": null,
       "grid_row": null,
       "grid_template_areas": null,
       "grid_template_columns": null,
       "grid_template_rows": null,
       "height": null,
       "justify_content": null,
       "justify_items": null,
       "left": null,
       "margin": null,
       "max_height": null,
       "max_width": null,
       "min_height": null,
       "min_width": null,
       "object_fit": null,
       "object_position": null,
       "order": null,
       "overflow": null,
       "overflow_x": null,
       "overflow_y": null,
       "padding": null,
       "right": null,
       "top": null,
       "visibility": null,
       "width": null
      }
     },
     "c03eb03e9f80455ab3bba28b3858cb80": {
      "model_module": "@jupyter-widgets/controls",
      "model_module_version": "1.5.0",
      "model_name": "HBoxModel",
      "state": {
       "_dom_classes": [],
       "_model_module": "@jupyter-widgets/controls",
       "_model_module_version": "1.5.0",
       "_model_name": "HBoxModel",
       "_view_count": null,
       "_view_module": "@jupyter-widgets/controls",
       "_view_module_version": "1.5.0",
       "_view_name": "HBoxView",
       "box_style": "",
       "children": [
        "IPY_MODEL_0593e72d36b74454b5beb63b52fa1a84",
        "IPY_MODEL_11e7c08095ec476a840ea06eebd50c7b",
        "IPY_MODEL_103cb6ff3a3f4e89a0fc59c63759ef31"
       ],
       "layout": "IPY_MODEL_765dbf51221b473682b25af048c12f3d"
      }
     },
     "c1b77aabee1740ae8d854ebd43ec8033": {
      "model_module": "@jupyter-widgets/controls",
      "model_module_version": "1.5.0",
      "model_name": "HBoxModel",
      "state": {
       "_dom_classes": [],
       "_model_module": "@jupyter-widgets/controls",
       "_model_module_version": "1.5.0",
       "_model_name": "HBoxModel",
       "_view_count": null,
       "_view_module": "@jupyter-widgets/controls",
       "_view_module_version": "1.5.0",
       "_view_name": "HBoxView",
       "box_style": "",
       "children": [
        "IPY_MODEL_6573ba7094024f9785d7f85e27382f38",
        "IPY_MODEL_0d5f4db3b17f481ebf55c40fc672e593",
        "IPY_MODEL_9c262750a6234790abd48cc76a2ab4ea"
       ],
       "layout": "IPY_MODEL_6c4b6e7d95df4dbbaa5bd09fa56ad888"
      }
     },
     "ce36f5e4008d4297b9d219de192b2e00": {
      "model_module": "@jupyter-widgets/controls",
      "model_module_version": "1.5.0",
      "model_name": "HTMLModel",
      "state": {
       "_dom_classes": [],
       "_model_module": "@jupyter-widgets/controls",
       "_model_module_version": "1.5.0",
       "_model_name": "HTMLModel",
       "_view_count": null,
       "_view_module": "@jupyter-widgets/controls",
       "_view_module_version": "1.5.0",
       "_view_name": "HTMLView",
       "description": "",
       "description_tooltip": null,
       "layout": "IPY_MODEL_7d26ae0b0bc8418d81eaaffa8500e135",
       "placeholder": "​",
       "style": "IPY_MODEL_3b248861736d4b8ea33f7f1d11d3fb3a",
       "value": ""
      }
     },
     "d933f2ec28c14a0b9cb5b07b2fd40f13": {
      "model_module": "@jupyter-widgets/controls",
      "model_module_version": "1.5.0",
      "model_name": "HBoxModel",
      "state": {
       "_dom_classes": [],
       "_model_module": "@jupyter-widgets/controls",
       "_model_module_version": "1.5.0",
       "_model_name": "HBoxModel",
       "_view_count": null,
       "_view_module": "@jupyter-widgets/controls",
       "_view_module_version": "1.5.0",
       "_view_name": "HBoxView",
       "box_style": "",
       "children": [
        "IPY_MODEL_1374f57ddcc74f20a41eda19fee73c4d",
        "IPY_MODEL_120bd6fa4c4d4b238bef582e5d416f16",
        "IPY_MODEL_dbf940eac5a74853bdb93e3db517843d"
       ],
       "layout": "IPY_MODEL_f04fa1d1deb04ac2b01c4e1ef365be8a"
      }
     },
     "dbf940eac5a74853bdb93e3db517843d": {
      "model_module": "@jupyter-widgets/controls",
      "model_module_version": "1.5.0",
      "model_name": "HTMLModel",
      "state": {
       "_dom_classes": [],
       "_model_module": "@jupyter-widgets/controls",
       "_model_module_version": "1.5.0",
       "_model_name": "HTMLModel",
       "_view_count": null,
       "_view_module": "@jupyter-widgets/controls",
       "_view_module_version": "1.5.0",
       "_view_name": "HTMLView",
       "description": "",
       "description_tooltip": null,
       "layout": "IPY_MODEL_786539cece1844eaa84caa835fad886a",
       "placeholder": "​",
       "style": "IPY_MODEL_2b79f8d88445443b824340da061aa1f7",
       "value": " 4423680/? [00:16&lt;00:00, 6678603.68it/s]"
      }
     },
     "dd79300d3b0b4f508e59a385935aafd6": {
      "model_module": "@jupyter-widgets/controls",
      "model_module_version": "1.5.0",
      "model_name": "HBoxModel",
      "state": {
       "_dom_classes": [],
       "_model_module": "@jupyter-widgets/controls",
       "_model_module_version": "1.5.0",
       "_model_name": "HBoxModel",
       "_view_count": null,
       "_view_module": "@jupyter-widgets/controls",
       "_view_module_version": "1.5.0",
       "_view_name": "HBoxView",
       "box_style": "",
       "children": [
        "IPY_MODEL_ce36f5e4008d4297b9d219de192b2e00",
        "IPY_MODEL_a6f7684f459a4840898a276d10c643e3",
        "IPY_MODEL_0378dd67d3b5436692a971e0c3f7069d"
       ],
       "layout": "IPY_MODEL_bf4a9ee9db944304bf63664f73dd389a"
      }
     },
     "e6c812bb7953473099e3ee38d42715dc": {
      "model_module": "@jupyter-widgets/base",
      "model_module_version": "1.2.0",
      "model_name": "LayoutModel",
      "state": {
       "_model_module": "@jupyter-widgets/base",
       "_model_module_version": "1.2.0",
       "_model_name": "LayoutModel",
       "_view_count": null,
       "_view_module": "@jupyter-widgets/base",
       "_view_module_version": "1.2.0",
       "_view_name": "LayoutView",
       "align_content": null,
       "align_items": null,
       "align_self": null,
       "border": null,
       "bottom": null,
       "display": null,
       "flex": null,
       "flex_flow": null,
       "grid_area": null,
       "grid_auto_columns": null,
       "grid_auto_flow": null,
       "grid_auto_rows": null,
       "grid_column": null,
       "grid_gap": null,
       "grid_row": null,
       "grid_template_areas": null,
       "grid_template_columns": null,
       "grid_template_rows": null,
       "height": null,
       "justify_content": null,
       "justify_items": null,
       "left": null,
       "margin": null,
       "max_height": null,
       "max_width": null,
       "min_height": null,
       "min_width": null,
       "object_fit": null,
       "object_position": null,
       "order": null,
       "overflow": null,
       "overflow_x": null,
       "overflow_y": null,
       "padding": null,
       "right": null,
       "top": null,
       "visibility": null,
       "width": null
      }
     },
     "ea54785ba1a843318d1b1eda28c516b0": {
      "model_module": "@jupyter-widgets/base",
      "model_module_version": "1.2.0",
      "model_name": "LayoutModel",
      "state": {
       "_model_module": "@jupyter-widgets/base",
       "_model_module_version": "1.2.0",
       "_model_name": "LayoutModel",
       "_view_count": null,
       "_view_module": "@jupyter-widgets/base",
       "_view_module_version": "1.2.0",
       "_view_name": "LayoutView",
       "align_content": null,
       "align_items": null,
       "align_self": null,
       "border": null,
       "bottom": null,
       "display": null,
       "flex": null,
       "flex_flow": null,
       "grid_area": null,
       "grid_auto_columns": null,
       "grid_auto_flow": null,
       "grid_auto_rows": null,
       "grid_column": null,
       "grid_gap": null,
       "grid_row": null,
       "grid_template_areas": null,
       "grid_template_columns": null,
       "grid_template_rows": null,
       "height": null,
       "justify_content": null,
       "justify_items": null,
       "left": null,
       "margin": null,
       "max_height": null,
       "max_width": null,
       "min_height": null,
       "min_width": null,
       "object_fit": null,
       "object_position": null,
       "order": null,
       "overflow": null,
       "overflow_x": null,
       "overflow_y": null,
       "padding": null,
       "right": null,
       "top": null,
       "visibility": null,
       "width": null
      }
     },
     "ed47475e04c144b6a646ad418082dd8d": {
      "model_module": "@jupyter-widgets/base",
      "model_module_version": "1.2.0",
      "model_name": "LayoutModel",
      "state": {
       "_model_module": "@jupyter-widgets/base",
       "_model_module_version": "1.2.0",
       "_model_name": "LayoutModel",
       "_view_count": null,
       "_view_module": "@jupyter-widgets/base",
       "_view_module_version": "1.2.0",
       "_view_name": "LayoutView",
       "align_content": null,
       "align_items": null,
       "align_self": null,
       "border": null,
       "bottom": null,
       "display": null,
       "flex": null,
       "flex_flow": null,
       "grid_area": null,
       "grid_auto_columns": null,
       "grid_auto_flow": null,
       "grid_auto_rows": null,
       "grid_column": null,
       "grid_gap": null,
       "grid_row": null,
       "grid_template_areas": null,
       "grid_template_columns": null,
       "grid_template_rows": null,
       "height": null,
       "justify_content": null,
       "justify_items": null,
       "left": null,
       "margin": null,
       "max_height": null,
       "max_width": null,
       "min_height": null,
       "min_width": null,
       "object_fit": null,
       "object_position": null,
       "order": null,
       "overflow": null,
       "overflow_x": null,
       "overflow_y": null,
       "padding": null,
       "right": null,
       "top": null,
       "visibility": null,
       "width": "20px"
      }
     },
     "f04fa1d1deb04ac2b01c4e1ef365be8a": {
      "model_module": "@jupyter-widgets/base",
      "model_module_version": "1.2.0",
      "model_name": "LayoutModel",
      "state": {
       "_model_module": "@jupyter-widgets/base",
       "_model_module_version": "1.2.0",
       "_model_name": "LayoutModel",
       "_view_count": null,
       "_view_module": "@jupyter-widgets/base",
       "_view_module_version": "1.2.0",
       "_view_name": "LayoutView",
       "align_content": null,
       "align_items": null,
       "align_self": null,
       "border": null,
       "bottom": null,
       "display": null,
       "flex": null,
       "flex_flow": null,
       "grid_area": null,
       "grid_auto_columns": null,
       "grid_auto_flow": null,
       "grid_auto_rows": null,
       "grid_column": null,
       "grid_gap": null,
       "grid_row": null,
       "grid_template_areas": null,
       "grid_template_columns": null,
       "grid_template_rows": null,
       "height": null,
       "justify_content": null,
       "justify_items": null,
       "left": null,
       "margin": null,
       "max_height": null,
       "max_width": null,
       "min_height": null,
       "min_width": null,
       "object_fit": null,
       "object_position": null,
       "order": null,
       "overflow": null,
       "overflow_x": null,
       "overflow_y": null,
       "padding": null,
       "right": null,
       "top": null,
       "visibility": null,
       "width": null
      }
     },
     "f602a3887ad141ed9c975a85d6c84096": {
      "model_module": "@jupyter-widgets/base",
      "model_module_version": "1.2.0",
      "model_name": "LayoutModel",
      "state": {
       "_model_module": "@jupyter-widgets/base",
       "_model_module_version": "1.2.0",
       "_model_name": "LayoutModel",
       "_view_count": null,
       "_view_module": "@jupyter-widgets/base",
       "_view_module_version": "1.2.0",
       "_view_name": "LayoutView",
       "align_content": null,
       "align_items": null,
       "align_self": null,
       "border": null,
       "bottom": null,
       "display": null,
       "flex": null,
       "flex_flow": null,
       "grid_area": null,
       "grid_auto_columns": null,
       "grid_auto_flow": null,
       "grid_auto_rows": null,
       "grid_column": null,
       "grid_gap": null,
       "grid_row": null,
       "grid_template_areas": null,
       "grid_template_columns": null,
       "grid_template_rows": null,
       "height": null,
       "justify_content": null,
       "justify_items": null,
       "left": null,
       "margin": null,
       "max_height": null,
       "max_width": null,
       "min_height": null,
       "min_width": null,
       "object_fit": null,
       "object_position": null,
       "order": null,
       "overflow": null,
       "overflow_x": null,
       "overflow_y": null,
       "padding": null,
       "right": null,
       "top": null,
       "visibility": null,
       "width": null
      }
     },
     "f7a10db801984d75bf727198acc06eb7": {
      "model_module": "@jupyter-widgets/controls",
      "model_module_version": "1.5.0",
      "model_name": "DescriptionStyleModel",
      "state": {
       "_model_module": "@jupyter-widgets/controls",
       "_model_module_version": "1.5.0",
       "_model_name": "DescriptionStyleModel",
       "_view_count": null,
       "_view_module": "@jupyter-widgets/base",
       "_view_module_version": "1.2.0",
       "_view_name": "StyleView",
       "description_width": ""
      }
     }
    },
    "version_major": 2,
    "version_minor": 0
   }
  }
 },
 "nbformat": 4,
 "nbformat_minor": 5
}
